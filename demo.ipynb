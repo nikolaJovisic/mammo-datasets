{
 "cells": [
  {
   "cell_type": "code",
   "execution_count": 1,
   "id": "fe5ac026",
   "metadata": {},
   "outputs": [
    {
     "name": "stdout",
     "output_type": "stream",
     "text": [
      "The history saving thread hit an unexpected error (DatabaseError('database disk image is malformed')).History will not be written to the database.\n"
     ]
    }
   ],
   "source": [
    "import matplotlib.pyplot as plt\n",
    "import numpy as np\n",
    "import cv2\n",
    "import pandas as pd\n",
    "from mammo_dataset import MammoDataset, DatasetEnum, Split, ReturnMode\n",
    "from unified_dataset import UnifiedDataset\n",
    "from utils.preprocess import resize_img\n",
    "from windowing.calculate import calculate_a_b\n",
    "from windowing.apply import window"
   ]
  },
  {
   "cell_type": "code",
   "execution_count": 2,
   "id": "c29a3c71",
   "metadata": {},
   "outputs": [],
   "source": [
    "\n",
    "# ssl_dataset = UnifiedDataset((MammoDataset(DatasetEnum.EMBED, Split.TRAIN, return_mode=ReturnMode.IMAGE_ONLY),\n",
    "#                               MammoDataset(DatasetEnum.EMBED, Split.VALID, return_mode=ReturnMode.IMAGE_ONLY),\n",
    "#                               MammoDataset(DatasetEnum.VINDR, Split.ALL, return_mode=ReturnMode.IMAGE_ONLY),\n",
    "#                               MammoDataset(DatasetEnum.RSNA, Split.ALL, return_mode=ReturnMode.IMAGE_ONLY),\n",
    "#                               MammoDataset(DatasetEnum.CSAW, Split.ALL, return_mode=ReturnMode.IMAGE_ONLY)))\n",
    "\n",
    "# train_dataset = UnifiedDataset((MammoDataset(DatasetEnum.EMBED, Split.TRAIN, labels=[4, 5, 6], return_mode=ReturnMode.CC_MLO_TILES_LABEL),\n",
    "#                                 MammoDataset(DatasetEnum.VINDR, Split.TRAIN, labels=['BI-RADS 4', 'BI-RADS 5', 'BI-RADS 6'], return_mode=ReturnMode.CC_MLO_TILES_LABEL),\n",
    "#                                 MammoDataset(DatasetEnum.RSNA, Split.TRAIN, labels=1, return_mode=ReturnMode.CC_MLO_TILES_LABEL),\n",
    "#                                 MammoDataset(DatasetEnum.CSAW, Split.TRAIN, labels=1, return_mode=ReturnMode.CC_MLO_TILES_LABEL)))\n",
    "\n",
    "# valid_dataset = UnifiedDataset((MammoDataset(DatasetEnum.EMBED, Split.VALID, labels=[4, 5, 6], return_mode=ReturnMode.CC_MLO_TILES_LABEL),\n",
    "#                                 MammoDataset(DatasetEnum.VINDR, Split.VALID, labels=['BI-RADS 4', 'BI-RADS 5', 'BI-RADS 6'], return_mode=ReturnMode.CC_MLO_TILES_LABEL),\n",
    "#                                 MammoDataset(DatasetEnum.RSNA, Split.VALID, labels=1, return_mode=ReturnMode.CC_MLO_TILES_LABEL),\n",
    "#                                 MammoDataset(DatasetEnum.CSAW, Split.VALID, labels=1, return_mode=ReturnMode.CC_MLO_TILES_LABEL)))\n",
    "\n",
    "# test_dataset = UnifiedDataset((MammoDataset(DatasetEnum.EMBED, Split.TEST, labels=[4, 5, 6], return_mode=ReturnMode.CC_MLO_TILES_LABEL),\n",
    "#                                 MammoDataset(DatasetEnum.VINDR, Split.TEST, labels=['BI-RADS 4', 'BI-RADS 5', 'BI-RADS 6'], return_mode=ReturnMode.CC_MLO_TILES_LABEL),\n",
    "#                                 MammoDataset(DatasetEnum.RSNA, Split.TEST, labels=1, return_mode=ReturnMode.CC_MLO_TILES_LABEL),\n",
    "#                                 MammoDataset(DatasetEnum.CSAW, Split.TEST, labels=1, return_mode=ReturnMode.CC_MLO_TILES_LABEL)))\n",
    "# for cc, mlo, tiles, label in dataset:\n",
    "#     print(label)\n",
    "#     show_mammo(cc, mlo, tiles)"
   ]
  },
  {
   "cell_type": "code",
   "execution_count": 8,
   "id": "a9962743",
   "metadata": {},
   "outputs": [
    {
     "name": "stderr",
     "output_type": "stream",
     "text": [
      "/home/nikola.jovisic.ivi/nj/mammo_datasets/mammo_dataset.py:174: DtypeWarning: Columns (26,27) have mixed types. Specify dtype option on import or set low_memory=False.\n",
      "  df = pd.read_csv(self.csv_path)\n"
     ]
    },
    {
     "name": "stdout",
     "output_type": "stream",
     "text": [
      "Dataset embed initialized with 218598 rows.\n",
      "65535\n",
      "65535\n",
      "65535\n",
      "65535\n",
      "65535\n",
      "65535\n",
      "65535\n",
      "65535\n",
      "64669\n",
      "65535\n",
      "64669\n",
      "65535\n"
     ]
    },
    {
     "name": "stderr",
     "output_type": "stream",
     "text": [
      "\n",
      "KeyboardInterrupt\n",
      "\n"
     ]
    }
   ],
   "source": [
    "dataset = MammoDataset(DatasetEnum.EMBED, Split.TRAIN, return_mode=ReturnMode.RAW_NUMPY)\n",
    "\n",
    "for i in dataset:\n",
    "    print(i.max())\n",
    "\n",
    "# df = pd.read_csv(dataset.csv_path)\n",
    "\n",
    "# for idx, image in dataset:\n",
    "#     print(df.iloc[idx][dataset.ds_spec.label_col])\n",
    "    \n",
    "# def add_windowing_columns(dataset):\n",
    "#     df = pd.read_csv(dataset.csv_path)\n",
    "#     num_samples = len(df)\n",
    "#     df['windowing_a'] = np.random.uniform(0, 1, size=num_samples)\n",
    "#     df['windowing_b'] = np.random.uniform(0, 1, size=num_samples)\n",
    "#     df.to_csv(dataset.csv_path, index=False)\n",
    "#     return df\n",
    "\n",
    "# add_windowing_columns(dataset)\n",
    "    "
   ]
  }
 ],
 "metadata": {
  "kernelspec": {
   "display_name": "Python 3 (ipykernel)",
   "language": "python",
   "name": "python3"
  },
  "language_info": {
   "codemirror_mode": {
    "name": "ipython",
    "version": 3
   },
   "file_extension": ".py",
   "mimetype": "text/x-python",
   "name": "python",
   "nbconvert_exporter": "python",
   "pygments_lexer": "ipython3",
   "version": "3.10.12"
  }
 },
 "nbformat": 4,
 "nbformat_minor": 5
}
